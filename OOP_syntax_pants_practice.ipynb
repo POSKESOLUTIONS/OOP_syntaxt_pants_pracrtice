{
 "cells": [
  {
   "cell_type": "code",
   "execution_count": 15,
   "id": "f685a851",
   "metadata": {},
   "outputs": [],
   "source": [
    "#Pants and SalesPerson Question\n",
    "\n",
    "class Pants:\n",
    "    \"\"\"The Pants class represents an article of clothing sold in a store\n",
    "    \"\"\"\n",
    "    \n",
    "    def __init__(self, color, waist_size, length, price):\n",
    "        \"\"\"Method for initializing a Pants object\n",
    "    \n",
    "        Args: \n",
    "            color (str)\n",
    "            waist_size (int)\n",
    "            length (int)\n",
    "            price (float)\n",
    "            \n",
    "        Attributes:\n",
    "            color (str): color of a pants object\n",
    "            waist_size (str): waist size of a pants object\n",
    "            length (str): length of a pants object\n",
    "            price (float): price of a pants object\n",
    "        \"\"\"\n",
    "            \n",
    "        self.color = color\n",
    "        self.waist_size = waist_size\n",
    "        self.length = length\n",
    "        self.price = price\n",
    "    \n",
    "    def change_price(self, new_price):\n",
    "        \"\"\"The change_price method changes the price attribute of a pants object\n",
    "    \n",
    "        Args: \n",
    "            new_price (float): the new price of the pants object\n",
    "            \n",
    "        Returns: None\n",
    "        \n",
    "        \"\"\"\n",
    "        self.price = new_price\n",
    "    \n",
    "    def discount(self, percentage):\n",
    "        \"\"\"The discount method outputs a discounted price of a pants object\n",
    "\n",
    "        Args:\n",
    "            percentage (float): a decimal representing the amount to discount\n",
    "\n",
    "        Returns:\n",
    "            float: the discounted price\n",
    "        \"\"\"\n",
    "        return self.price * (1 - percentage)\n",
    "\n",
    "\n",
    "class SalesPerson:\n",
    "    \"\"\"The SalesPerson class represents an employee in the store\n",
    "\n",
    "    \"\"\"\n",
    "\n",
    "    def __init__(self, first_name, last_name, employee_id, salary):\n",
    "        \"\"\"Method for initializing a SalesPerson object\n",
    "        \n",
    "        Args: \n",
    "            first_name (str)\n",
    "            last_name (str)\n",
    "            employee_id (int)\n",
    "            salary (float)\n",
    "\n",
    "        Attributes:\n",
    "            first_name (str): first name of the employee\n",
    "            last_name (str): last name of the employee\n",
    "            employee_id (int): identification number of the employee\n",
    "            salary (float): yearly salary of the employee\n",
    "            pants_sold (list): a list of pants objects sold by the employee\n",
    "            total_sales (float): sum of all sales made by the employee\n",
    "\n",
    "        \"\"\"\n",
    "        self.first_name = first_name\n",
    "        self.last_name = last_name\n",
    "        self.employee_id = employee_id\n",
    "        self.salary = salary\n",
    "        self.pants_sold = []\n",
    "        self.total_sales = 0\n",
    "\n",
    "    def sell_pants(self, pants_object):\n",
    "        \"\"\"The sell_pants method appends a pants object to the pants_sold attribute\n",
    "\n",
    "        Args: \n",
    "            pants_object (obj): a pants object that was sold\n",
    "\n",
    "        Returns: None\n",
    "\n",
    "        \"\"\"\n",
    "\n",
    "        self.pants_sold.append(pants_object)\n",
    "\n",
    "    def display_sales(self):\n",
    "        \"\"\"The display_sales method prints out all pants that have been sold\n",
    "\n",
    "        Args: None\n",
    "\n",
    "        Returns: None\n",
    "\n",
    "        \"\"\"\n",
    "\n",
    "        for pants in self.pants_sold:\n",
    "            print('color: {}, waist_size: {}, length: {}, price: {}'\\\n",
    "                  .format(pants.color, pants.waist_size, pants.length, pants.price))\n",
    "    \n",
    "    def calculate_sales(self):\n",
    "        \"\"\"The calculate_sales method sums the total price of all pants sold\n",
    "\n",
    "        Args: None\n",
    "\n",
    "        Returns:\n",
    "            float: sum of the price for all pants sold\n",
    "        \n",
    "        \"\"\"\n",
    "\n",
    "        total = 0\n",
    "        for pants in self.pants_sold:\n",
    "            total += pants.price\n",
    "            \n",
    "        self.total_sales = total\n",
    "        \n",
    "        return total\n",
    "    \n",
    "    def calculate_commission(self, percentage):\n",
    "        \"\"\"The calculate_commission method outputs the commission based on sales\n",
    "\n",
    "        Args:\n",
    "            percentage (float): the commission percentage as a decimal\n",
    "\n",
    "        Returns:\n",
    "            float: the commission due\n",
    "        \"\"\"\n",
    "\n",
    "        sales_total = self.calculate_sales()\n",
    "        return sales_total * percentage \n",
    "        "
   ]
  },
  {
   "cell_type": "code",
   "execution_count": 1,
   "id": "c95764ba",
   "metadata": {},
   "outputs": [],
   "source": [
    "class Pants:\n",
    "    \n",
    "        def __init__(self, pant_color, pant_waist_size, pant_length, pant_price):\n",
    "           self.color = pant_color\n",
    "           self.waist_size = pant_waist_size\n",
    "           self.length = pant_length\n",
    "           self.price = pant_price\n",
    "       \n",
    "        def change_price(self, new_price):\n",
    "        \n",
    "            self.price = new_price\n",
    "            \n",
    "        def discount(self, discount):\n",
    "    \n",
    "            return self.price * (1 - discount)"
   ]
  },
  {
   "cell_type": "code",
   "execution_count": 2,
   "id": "e38ad1f7",
   "metadata": {},
   "outputs": [],
   "source": [
    "pant_one = Pants('yellow', 10, 30, 25.67)"
   ]
  },
  {
   "cell_type": "code",
   "execution_count": 3,
   "id": "e7ca6ce2",
   "metadata": {},
   "outputs": [],
   "source": [
    "pant_one.change_price(20.25)"
   ]
  },
  {
   "cell_type": "code",
   "execution_count": 4,
   "id": "756a7b7d",
   "metadata": {},
   "outputs": [
    {
     "data": {
      "text/plain": [
       "17.6175"
      ]
     },
     "execution_count": 4,
     "metadata": {},
     "output_type": "execute_result"
    }
   ],
   "source": [
    "pant_one.discount(0.13)"
   ]
  },
  {
   "cell_type": "code",
   "execution_count": 5,
   "id": "87a315bf",
   "metadata": {},
   "outputs": [],
   "source": [
    "pants = pant_one"
   ]
  },
  {
   "cell_type": "code",
   "execution_count": 6,
   "id": "18f5b943",
   "metadata": {},
   "outputs": [],
   "source": [
    "pants.color = 'red'"
   ]
  },
  {
   "cell_type": "code",
   "execution_count": 7,
   "id": "870703e7",
   "metadata": {},
   "outputs": [],
   "source": [
    "pants.waist_size = 35"
   ]
  },
  {
   "cell_type": "code",
   "execution_count": 8,
   "id": "f784e287",
   "metadata": {},
   "outputs": [],
   "source": [
    "pants.length = 36"
   ]
  },
  {
   "cell_type": "code",
   "execution_count": 9,
   "id": "e75aa294",
   "metadata": {},
   "outputs": [],
   "source": [
    "pants.color = 15.12"
   ]
  },
  {
   "cell_type": "code",
   "execution_count": 10,
   "id": "259fca95",
   "metadata": {},
   "outputs": [],
   "source": [
    "pant_one.change_price(10)"
   ]
  },
  {
   "cell_type": "code",
   "execution_count": 11,
   "id": "9cb978e6",
   "metadata": {},
   "outputs": [
    {
     "data": {
      "text/plain": [
       "9.0"
      ]
     },
     "execution_count": 11,
     "metadata": {},
     "output_type": "execute_result"
    }
   ],
   "source": [
    "pant_one.discount(0.1)"
   ]
  },
  {
   "cell_type": "code",
   "execution_count": 15,
   "id": "3ed8b444",
   "metadata": {},
   "outputs": [],
   "source": [
    "pants.price = 15.12"
   ]
  },
  {
   "cell_type": "code",
   "execution_count": 16,
   "id": "d8cb831c",
   "metadata": {},
   "outputs": [],
   "source": [
    "pants.color = 'red'"
   ]
  },
  {
   "cell_type": "code",
   "execution_count": 17,
   "id": "cbe862f5",
   "metadata": {},
   "outputs": [],
   "source": [
    "pant_one.change_price(10)"
   ]
  },
  {
   "cell_type": "code",
   "execution_count": 18,
   "id": "4ce1f44c",
   "metadata": {},
   "outputs": [],
   "source": [
    "assert pants.color == 'red'"
   ]
  },
  {
   "cell_type": "code",
   "execution_count": 22,
   "id": "9cd1e5e9",
   "metadata": {},
   "outputs": [],
   "source": [
    "assert pants.waist_size == 35"
   ]
  },
  {
   "cell_type": "code",
   "execution_count": 23,
   "id": "23e65c19",
   "metadata": {},
   "outputs": [],
   "source": [
    "assert pants.length == 36"
   ]
  },
  {
   "cell_type": "code",
   "execution_count": 24,
   "id": "3e7925f7",
   "metadata": {},
   "outputs": [],
   "source": [
    "assert pants.price == 10"
   ]
  },
  {
   "cell_type": "code",
   "execution_count": 25,
   "id": "332bc00f",
   "metadata": {},
   "outputs": [],
   "source": [
    "assert pants.color == 'red'"
   ]
  },
  {
   "cell_type": "code",
   "execution_count": 26,
   "id": "cdba31b2",
   "metadata": {},
   "outputs": [],
   "source": [
    "def check_results():\n",
    "        pants = Pants('red', 35, 36, 15.12)\n",
    "        assert pants.color == 'red'\n",
    "        assert pants.waist_size == 35\n",
    "        assert pants.length == 36\n",
    "        assert pants.price == 15.12\n",
    "        \n",
    "        pants.change_price(10) == 10\n",
    "        assert pants.price == 10 \n",
    "        \n",
    "        assert pants.discount(.1) == 9\n",
    "        \n",
    "        print('You made it to the end of the check. Nice job!')"
   ]
  },
  {
   "cell_type": "code",
   "execution_count": 27,
   "id": "68241bcd",
   "metadata": {},
   "outputs": [],
   "source": [
    "#I am starting Person class next time from here\n"
   ]
  },
  {
   "cell_type": "code",
   "execution_count": 28,
   "id": "c71899c4",
   "metadata": {},
   "outputs": [],
   "source": [
    "class SalesPerson:\n",
    "    \n",
    "        def __init__(self, first_name, last_name, employee_id, salary, pants_sold, total_sales):\n",
    "           self.first_name = first_name\n",
    "           self.last_name = last_name\n",
    "           self.employee_id = employee_id\n",
    "           self.salary = salary\n",
    "           self.pants_sold = pants_sold\n",
    "           self.total_sales = total_sales\n",
    "            "
   ]
  },
  {
   "cell_type": "code",
   "execution_count": 29,
   "id": "2a8f8e77",
   "metadata": {},
   "outputs": [],
   "source": [
    "pants_sold = []"
   ]
  },
  {
   "cell_type": "code",
   "execution_count": 30,
   "id": "cf76951e",
   "metadata": {},
   "outputs": [],
   "source": [
    "total_sales = 0"
   ]
  },
  {
   "cell_type": "code",
   "execution_count": 31,
   "id": "ad7e742e",
   "metadata": {},
   "outputs": [],
   "source": [
    "def sell_pants(self, pants_object):\n",
    "  self.pants_sold.append(pants_object)"
   ]
  },
  {
   "cell_type": "code",
   "execution_count": 1,
   "id": "ea4e683c",
   "metadata": {},
   "outputs": [],
   "source": [
    "def display_sales(self):\n",
    "    for pants in self.pants_sold:\n",
    "            print('color: {}, waist_size: {}, length: {}, price: {}'\\\n",
    "                  .format(pants.color, pants.waist_size, pants.length, pants.price))\n",
    "  "
   ]
  },
  {
   "cell_type": "code",
   "execution_count": 8,
   "id": "ccc63600",
   "metadata": {},
   "outputs": [],
   "source": [
    "def calculate_sales(self):\n",
    "    \n",
    "    total = 0\n",
    "    for pants in self.pants_sold:\n",
    "            total += pants.price"
   ]
  },
  {
   "cell_type": "code",
   "execution_count": 10,
   "id": "54853c92",
   "metadata": {},
   "outputs": [],
   "source": [
    "def calculate_sales(self):\n",
    "    \n",
    "        total = 0\n",
    "        for pants in self.pants_sold:\n",
    "            total += pants.price\n",
    "            \n",
    "        self.total_sales = total\n",
    "        \n",
    "        return total"
   ]
  },
  {
   "cell_type": "code",
   "execution_count": 11,
   "id": "106de675",
   "metadata": {},
   "outputs": [],
   "source": [
    "def calculate_commission(self, percentage):\n",
    "\n",
    "        sales_total = self.calculate_sales()\n",
    "        return sales_total * percentage "
   ]
  },
  {
   "cell_type": "code",
   "execution_count": 14,
   "id": "74c4f9b7",
   "metadata": {},
   "outputs": [],
   "source": [
    "def check_results():\n",
    "        pants_one = Pants('red', 35, 36, 15.12)\n",
    "        pants_two = Pants('blue', 40, 38, 24.12)\n",
    "        pants_three = Pants('tan', 28, 30, 8.12)\n",
    "        \n",
    "        salesperson = SalesPerson('Amy', 'Gonzalez', 2581923, 40000)\n",
    "        \n",
    "        assert salesperson.first_name == 'Amy'\n",
    "        assert salesperson.last_name == 'Gonzalez'\n",
    "        assert salesperson.employee_id == 2581923\n",
    "        assert salesperson.salary == 40000\n",
    "        assert salesperson.pants_sold == []\n",
    "        assert salesperson.total_sales == 0\n",
    "    \n",
    "        salesperson.sell_pants(pants_one)\n",
    "        salesperson.pants_sold[0] == pants_one.color\n",
    "        \n",
    "        salesperson.sell_pants(pants_two)\n",
    "        salesperson.sell_pants(pants_three)\n",
    "        \n",
    "        assert len(salesperson.pants_sold) == 3\n",
    "        assert round(salesperson.calculate_sales(),2) == 47.36\n",
    "        assert round(salesperson.calculate_commission(.1),2) == 4.74\n",
    "        \n",
    "        print('Great job, you made it to the end of the code checks!')\n",
    "        \n",
    "        check_results()\n",
    "        "
   ]
  },
  {
   "cell_type": "code",
   "execution_count": null,
   "id": "81f5327d",
   "metadata": {},
   "outputs": [],
   "source": []
  }
 ],
 "metadata": {
  "kernelspec": {
   "display_name": "Python 3 (ipykernel)",
   "language": "python",
   "name": "python3"
  },
  "language_info": {
   "codemirror_mode": {
    "name": "ipython",
    "version": 3
   },
   "file_extension": ".py",
   "mimetype": "text/x-python",
   "name": "python",
   "nbconvert_exporter": "python",
   "pygments_lexer": "ipython3",
   "version": "3.9.7"
  }
 },
 "nbformat": 4,
 "nbformat_minor": 5
}
